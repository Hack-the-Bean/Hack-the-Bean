{
 "cells": [
  {
   "cell_type": "code",
   "execution_count": 1,
   "metadata": {},
   "outputs": [
    {
     "name": "stderr",
     "output_type": "stream",
     "text": [
      "2025-03-01 21:25:20.344706: I tensorflow/core/util/port.cc:153] oneDNN custom operations are on. You may see slightly different numerical results due to floating-point round-off errors from different computation orders. To turn them off, set the environment variable `TF_ENABLE_ONEDNN_OPTS=0`.\n",
      "2025-03-01 21:25:20.345228: I external/local_xla/xla/tsl/cuda/cudart_stub.cc:32] Could not find cuda drivers on your machine, GPU will not be used.\n",
      "2025-03-01 21:25:20.347891: I external/local_xla/xla/tsl/cuda/cudart_stub.cc:32] Could not find cuda drivers on your machine, GPU will not be used.\n",
      "2025-03-01 21:25:20.354899: E external/local_xla/xla/stream_executor/cuda/cuda_fft.cc:477] Unable to register cuFFT factory: Attempting to register factory for plugin cuFFT when one has already been registered\n",
      "WARNING: All log messages before absl::InitializeLog() is called are written to STDERR\n",
      "E0000 00:00:1740864320.365096  204324 cuda_dnn.cc:8310] Unable to register cuDNN factory: Attempting to register factory for plugin cuDNN when one has already been registered\n",
      "E0000 00:00:1740864320.368111  204324 cuda_blas.cc:1418] Unable to register cuBLAS factory: Attempting to register factory for plugin cuBLAS when one has already been registered\n",
      "2025-03-01 21:25:20.379880: I tensorflow/core/platform/cpu_feature_guard.cc:210] This TensorFlow binary is optimized to use available CPU instructions in performance-critical operations.\n",
      "To enable the following instructions: AVX2 AVX512F AVX512_VNNI AVX512_BF16 FMA, in other operations, rebuild TensorFlow with the appropriate compiler flags.\n"
     ]
    }
   ],
   "source": [
    "import numpy as np\n",
    "import matplotlib.pyplot as plt\n",
    "import cv2\n",
    "from osgeo import gdal\n",
    "import tensorflow as tf\n",
    "from tensorflow.keras.models import Sequential\n",
    "from tensorflow.keras.layers import Conv2D, MaxPooling2D, Flatten, Dense\n",
    "from sklearn.model_selection import train_test_split"
   ]
  },
  {
   "cell_type": "code",
   "execution_count": 3,
   "metadata": {},
   "outputs": [
    {
     "name": "stderr",
     "output_type": "stream",
     "text": [
      "/usr/lib/python3/dist-packages/osgeo/gdal.py:312: FutureWarning: Neither gdal.UseExceptions() nor gdal.DontUseExceptions() has been explicitly called. In GDAL 4.0, exceptions will be enabled by default.\n",
      "  warnings.warn(\n"
     ]
    }
   ],
   "source": [
    "img = cv2.imread(\"/home/h00pyfr00d/Downloads/data/20230215-SE2B-CGG-GBR-MS3-L3-RGB-preview.jpg\", cv2.IMREAD_COLOR)\n",
    "lidar = gdal.Open(\"/home/h00pyfr00d/Downloads/data/DSM_TQ0075_P_12757_20230109_20230315.tif\")\n",
    "# Read the first band of the LIDAR data\n",
    "lidar_band = lidar.GetRasterBand(1)\n",
    "lidar_data = lidar_band.ReadAsArray()"
   ]
  },
  {
   "cell_type": "code",
   "execution_count": 7,
   "metadata": {},
   "outputs": [],
   "source": [
    "ground_threshold = 18\n",
    "# Create a mask for areas above the ground threshold\n",
    "above_ground_mask = lidar_data > ground_threshold\n",
    "# Apply the mask to the LIDAR data\n",
    "above_ground_lidar_data = np.where(above_ground_mask, lidar_data, np.nan)\n",
    "\n",
    "nrg_img = cv2.imread(\"/home/h00pyfr00d/Downloads/data/20230215-SE2B-CGG-GBR-MS3-L3-NRG-preview.jpg\", cv2.IMREAD_COLOR)\n",
    "\n",
    "# Split the NRG image into its respective bands\n",
    "nir_band = nrg_img[:, :, 0].astype(float)  # Near-Infrared band\n",
    "red_band = nrg_img[:, :, 2].astype(float)  # Red band\n",
    "\n",
    "# Subtract the bands\n",
    "band_difference = nir_band - red_band\n"
   ]
  },
  {
   "cell_type": "code",
   "execution_count": 8,
   "metadata": {},
   "outputs": [],
   "source": [
    "# Define a threshold for the band difference to identify greenery\n",
    "greenery_threshold = -50\n",
    "\n",
    "# Create a mask for areas that are not greenery\n",
    "non_greenery_mask = band_difference > greenery_threshold\n",
    "\n",
    "# Resize the mask to match the shape of above_ground_lidar_data\n",
    "non_greenery_mask_resized = cv2.resize(non_greenery_mask.astype(np.uint8), (above_ground_lidar_data.shape[1], above_ground_lidar_data.shape[0]), interpolation=cv2.INTER_NEAREST).astype(bool)\n",
    "\n",
    "# Apply the resized mask to the above ground LIDAR data\n",
    "above_ground_lidar_data_no_greenery = np.where(non_greenery_mask_resized, above_ground_lidar_data, np.nan)"
   ]
  },
  {
   "cell_type": "code",
   "execution_count": null,
   "metadata": {},
   "outputs": [],
   "source": []
  }
 ],
 "metadata": {
  "kernelspec": {
   "display_name": "Python 3",
   "language": "python",
   "name": "python3"
  },
  "language_info": {
   "codemirror_mode": {
    "name": "ipython",
    "version": 3
   },
   "file_extension": ".py",
   "mimetype": "text/x-python",
   "name": "python",
   "nbconvert_exporter": "python",
   "pygments_lexer": "ipython3",
   "version": "3.12.3"
  }
 },
 "nbformat": 4,
 "nbformat_minor": 2
}
